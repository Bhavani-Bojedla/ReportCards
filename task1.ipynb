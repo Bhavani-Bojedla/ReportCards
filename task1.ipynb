{
 "cells": [
  {
   "cell_type": "code",
   "execution_count": 3,
   "metadata": {},
   "outputs": [],
   "source": [
    "import pandas as pd\n",
    "from reportlab.lib.pagesizes import letter\n",
    "from reportlab.platypus import SimpleDocTemplate, Table, TableStyle, Paragraph, Spacer\n",
    "from reportlab.lib import colors\n",
    "from reportlab.lib.styles import getSampleStyleSheet\n",
    "import os\n"
   ]
  },
  {
   "cell_type": "code",
   "execution_count": 4,
   "metadata": {},
   "outputs": [],
   "source": [
    "def generate_report_cards(file_path):\n",
    "    try:\n",
    "        df = pd.read_excel(file_path)\n",
    "\n",
    "        required_columns = {'Student ID', 'Name', 'Subject', 'Score'}\n",
    "        if not required_columns.issubset(df.columns):\n",
    "            raise ValueError(f\"Missing required columns: {required_columns - set(df.columns)}\")\n",
    "\n",
    "        student_summary = (\n",
    "            df.groupby(['Student ID', 'Name'])\n",
    "            .agg(Total_Score=('Score', 'sum'), Average_Score=('Score', 'mean'))\n",
    "            .reset_index()\n",
    "        )\n",
    "        output_dir = \"report_cards\"\n",
    "        os.makedirs(output_dir, exist_ok=True)\n",
    "        for _, student in student_summary.iterrows():\n",
    "            student_id = student['Student ID']\n",
    "            student_name = student['Name']\n",
    "            total_score = student['Total_Score']\n",
    "            average_score = student['Average_Score']\n",
    "\n",
    "            student_scores = df[df['Student ID'] == student_id][['Subject', 'Score']]\n",
    "            \n",
    "            pdf_path = os.path.join(output_dir, f\"report_card_{student_id}.pdf\")\n",
    "            generate_pdf(pdf_path, student_name, total_score, average_score, student_scores)\n",
    "        print(f\"Report cards generated successfully in the '{output_dir}' directory.\")\n",
    "    except Exception as e:\n",
    "        print(f\"An error occurred: {e}\")"
   ]
  },
  {
   "cell_type": "code",
   "execution_count": 5,
   "metadata": {},
   "outputs": [],
   "source": [
    "def generate_pdf(pdf_path, student_name, total_score, average_score, student_scores):\n",
    "    styles = getSampleStyleSheet()\n",
    "\n",
    "    pdf = SimpleDocTemplate(pdf_path, pagesize=letter)\n",
    "    elements = []\n",
    "\n",
    "    elements.append(Paragraph(f\"Report Card\", styles['Title']))\n",
    "    elements.append(Paragraph(f\"Name: {student_name}\", styles['Normal']))\n",
    "    elements.append(Paragraph(f\"Total Score: {total_score}\", styles['Normal']))\n",
    "    elements.append(Paragraph(f\"Average Score: {average_score:.2f}\", styles['Normal']))\n",
    "    elements.append(Spacer(1, 12))\n",
    "\n",
    "    table_data = [['Subject', 'Score']] + student_scores.values.tolist()\n",
    "    table = Table(table_data, colWidths=[200, 100])\n",
    "    table.setStyle(TableStyle([\n",
    "        ('BACKGROUND', (0, 0), (-1, 0), colors.grey),\n",
    "        ('TEXTCOLOR', (0, 0), (-1, 0), colors.whitesmoke),\n",
    "        ('ALIGN', (0, 0), (-1, -1), 'CENTER'),\n",
    "        ('FONTNAME', (0, 0), (-1, 0), 'Helvetica-Bold'),\n",
    "        ('BOTTOMPADDING', (0, 0), (-1, 0), 12),\n",
    "        ('BACKGROUND', (0, 1), (-1, -1), colors.beige),\n",
    "        ('GRID', (0, 0), (-1, -1), 1, colors.black),\n",
    "    ]))\n",
    "    elements.append(table)\n",
    "    pdf.build(elements)"
   ]
  },
  {
   "cell_type": "code",
   "execution_count": 6,
   "metadata": {},
   "outputs": [
    {
     "name": "stdout",
     "output_type": "stream",
     "text": [
      "Report cards generated successfully in the 'report_cards' directory.\n"
     ]
    }
   ],
   "source": [
    "if __name__ == \"__main__\":\n",
    "    generate_report_cards(\"student_scores.xlsx\")"
   ]
  },
  {
   "cell_type": "code",
   "execution_count": null,
   "metadata": {},
   "outputs": [],
   "source": []
  }
 ],
 "metadata": {
  "kernelspec": {
   "display_name": "Python 3",
   "language": "python",
   "name": "python3"
  },
  "language_info": {
   "codemirror_mode": {
    "name": "ipython",
    "version": 3
   },
   "file_extension": ".py",
   "mimetype": "text/x-python",
   "name": "python",
   "nbconvert_exporter": "python",
   "pygments_lexer": "ipython3",
   "version": "3.12.4"
  }
 },
 "nbformat": 4,
 "nbformat_minor": 2
}
